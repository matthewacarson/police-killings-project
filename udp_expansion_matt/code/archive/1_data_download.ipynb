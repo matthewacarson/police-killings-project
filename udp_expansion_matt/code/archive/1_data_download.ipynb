{
 "cells": [
  {
   "cell_type": "markdown",
   "metadata": {},
   "source": [
    "### Import libraries"
   ]
  },
  {
   "cell_type": "code",
   "execution_count": 83,
   "metadata": {
    "scrolled": true
   },
   "outputs": [],
   "source": [
    "import census\n",
    "import pandas as pd\n",
    "import numpy as np"
   ]
  },
  {
   "cell_type": "markdown",
   "metadata": {},
   "source": [
    "### Set API key"
   ]
  },
  {
   "cell_type": "code",
   "execution_count": 84,
   "metadata": {},
   "outputs": [],
   "source": [
    "key = '4c26aa6ebbaef54a55d3903212eabbb506ade381'\n",
    "c = census.Census(key)"
   ]
  },
  {
   "cell_type": "markdown",
   "metadata": {},
   "source": [
    "### Choose city and census tracts of interest"
   ]
  },
  {
   "cell_type": "code",
   "execution_count": 85,
   "metadata": {},
   "outputs": [],
   "source": [
    "city_name = 'Memphis'\n",
    "# These are the counties\n",
    "#If reproducing for another city, add elif for that city & desired counties here\n",
    "\n",
    "if city_name == 'Chicago':\n",
    "    state = '17'\n",
    "    FIPS = ['031', '043', '089', '093', '097', '111', '197']\n",
    "\n",
    "elif city_name == 'Atlanta':\n",
    "    state = '13'\n",
    "    FIPS = ['057', '063', '067', '089', '097', '113', '121', '135', '151', '247']\n",
    "    \n",
    "elif city_name == 'Denver':\n",
    "    state = '08'\n",
    "    FIPS = ['001', '005', '013', '014', '019', '031', '035', '047', '059']\n",
    "\n",
    "elif city_name == 'Memphis':\n",
    "    state = ['28', '47']\n",
    "    FIPS = {'28':['033', '093'], '47': ['047', '157']}\n",
    "    \n",
    "elif city_name == 'Los Angeles':\n",
    "    state = '06'\n",
    "    FIPS = ['037']\n",
    "\n",
    "else:\n",
    "    print ('There is not information for the selected city')"
   ]
  },
  {
   "cell_type": "code",
   "execution_count": 86,
   "metadata": {},
   "outputs": [],
   "source": [
    "if city_name != 'Memphis':\n",
    "    sql_query='state:{} county:*'.format(state)\n",
    "else:\n",
    "    sql_query_1='state:{} county:*'.format(state[0])\n",
    "    sql_query_2='state:{} county:*'.format(state[1])"
   ]
  },
  {
   "cell_type": "markdown",
   "metadata": {},
   "source": [
    "### Creates filter function\n",
    "Note - Memphis is different bc it's located in 2 states"
   ]
  },
  {
   "cell_type": "code",
   "execution_count": 87,
   "metadata": {},
   "outputs": [],
   "source": [
    "def filter_FIPS(df):\n",
    "    if city_name != 'Memphis':\n",
    "        df = df[df['county'].isin(FIPS)]\n",
    "\n",
    "    else:\n",
    "        fips_list = []\n",
    "        for i in state:\n",
    "            county = FIPS[i]\n",
    "            a = list((df['FIPS'][(df['county'].isin(county))&(df['state']==i)]))\n",
    "            fips_list = fips_list + a\n",
    "        df = df[df['FIPS'].isin(fips_list)]\n",
    "    return df"
   ]
  },
  {
   "cell_type": "markdown",
   "metadata": {},
   "source": [
    "### Download ACS 2017 5-Year Estimates"
   ]
  },
  {
   "cell_type": "code",
   "execution_count": 88,
   "metadata": {},
   "outputs": [],
   "source": [
    "df_vars_17=['B03002_001E',\n",
    "            'B03002_003E',\n",
    "            'B19001_001E',\n",
    "            'B19013_001E',\n",
    "            'B25077_001E',\n",
    "            'B25077_001M',\n",
    "            'B25064_001E',\n",
    "            'B25064_001M',\n",
    "            'B15003_001E',\n",
    "            'B15003_022E',\n",
    "            'B15003_023E',\n",
    "            'B15003_024E',\n",
    "            'B15003_025E',\n",
    "            'B25034_001E',\n",
    "            'B25034_010E',\n",
    "            'B25034_011E',\n",
    "            'B25003_002E',\n",
    "            'B25003_003E',\n",
    "            'B25105_001E',\n",
    "            'B06011_001E']\n",
    "\n",
    "# Income categories - see notes\n",
    "var_str = 'B19001'\n",
    "var_list = []\n",
    "for i in range (1, 18):\n",
    "    var_list.append(var_str+'_'+str(i).zfill(3)+'E')\n",
    "df_vars_17 = df_vars_17 + var_list\n",
    "\n",
    "# Migration - see notes\n",
    "var_str = 'B07010'\n",
    "var_list = []\n",
    "for i in list(range(25,34))+list(range(36, 45))+list(range(47, 56))+list(range(58, 67)):\n",
    "    var_list.append(var_str+'_'+str(i).zfill(3)+'E')\n",
    "df_vars_17 = df_vars_17 + var_list"
   ]
  },
  {
   "cell_type": "markdown",
   "metadata": {},
   "source": [
    "#### Run API query\n",
    "NOTE: Memphis is located in two states so the query looks different"
   ]
  },
  {
   "cell_type": "code",
   "execution_count": 89,
   "metadata": {},
   "outputs": [],
   "source": [
    "if city_name != 'Memphis':\n",
    "    var_dict_acs5 = c.acs5.get(df_vars_17, geo = {'for': 'tract:*',\n",
    "                                 'in': sql_query}, year=2017)\n",
    "else:\n",
    "    var_dict_1 = c.acs5.get(df_vars_17, geo = {'for': 'tract:*',\n",
    "                                 'in': sql_query_1} , year=2017)\n",
    "    var_dict_2 = (c.acs5.get(df_vars_17, geo = {'for': 'tract:*',\n",
    "                                 'in': sql_query_2}, year=2017))\n",
    "    var_dict_acs5 = var_dict_1+var_dict_2"
   ]
  },
  {
   "cell_type": "markdown",
   "metadata": {},
   "source": [
    "#### Converts variables into dataframe and filters only FIPS of interest"
   ]
  },
  {
   "cell_type": "code",
   "execution_count": 90,
   "metadata": {},
   "outputs": [],
   "source": [
    "df_vars_17 = pd.DataFrame.from_dict(var_dict_acs5)\n",
    "df_vars_17['FIPS']=df_vars_17['state']+df_vars_17['county']+df_vars_17['tract']\n",
    "df_vars_17 = filter_FIPS(df_vars_17)"
   ]
  },
  {
   "cell_type": "markdown",
   "metadata": {},
   "source": [
    "#### Renames variables"
   ]
  },
  {
   "cell_type": "code",
   "execution_count": 91,
   "metadata": {},
   "outputs": [],
   "source": [
    "df_vars_17 = df_vars_17.rename(columns = {'B03002_001E':'pop_17',\n",
    "                                          'B03002_003E':'white_17',\n",
    "                                          'B19001_001E':'hh_17',\n",
    "                                          'B19013_001E':'hinc_17',\n",
    "                                          'B25077_001E':'mhval_17',\n",
    "                                          'B25077_001M':'mhval_17_se',\n",
    "                                          'B25064_001E':'mrent_17',\n",
    "                                          'B25064_001M':'mrent_17_se',\n",
    "                                          'B25003_002E':'ohu_17',\n",
    "                                          'B25003_003E':'rhu_17',\n",
    "                                          'B25105_001E':'mmhcosts_17',\n",
    "                                          'B15003_001E':'total_25_17',\n",
    "                                          'B15003_022E':'total_25_col_bd_17',\n",
    "                                          'B15003_023E':'total_25_col_md_17',\n",
    "                                          'B15003_024E':'total_25_col_pd_17',\n",
    "                                          'B15003_025E':'total_25_col_phd_17',\n",
    "                                          'B25034_001E':'tot_units_built_17',\n",
    "                                          'B25034_010E':'units_40_49_built_17',\n",
    "                                          'B25034_011E':'units_39_early_built_17',\n",
    "                                          'B07010_025E':'mov_wc_w_income_17',\n",
    "                                          'B07010_026E':'mov_wc_9000_17',\n",
    "                                          'B07010_027E':'mov_wc_15000_17',\n",
    "                                          'B07010_028E':'mov_wc_25000_17',\n",
    "                                          'B07010_029E':'mov_wc_35000_17',\n",
    "                                          'B07010_030E':'mov_wc_50000_17',\n",
    "                                          'B07010_031E':'mov_wc_65000_17',\n",
    "                                          'B07010_032E':'mov_wc_75000_17',\n",
    "                                          'B07010_033E':'mov_wc_76000_more_17',\n",
    "                                          'B07010_036E':'mov_oc_w_income_17',\n",
    "                                          'B07010_037E':'mov_oc_9000_17',\n",
    "                                          'B07010_038E':'mov_oc_15000_17',\n",
    "                                          'B07010_039E':'mov_oc_25000_17',\n",
    "                                          'B07010_040E':'mov_oc_35000_17',\n",
    "                                          'B07010_041E':'mov_oc_50000_17',\n",
    "                                          'B07010_042E':'mov_oc_65000_17',\n",
    "                                          'B07010_043E':'mov_oc_75000_17',\n",
    "                                          'B07010_044E':'mov_oc_76000_more_17',\n",
    "                                          'B07010_047E':'mov_os_w_income_17',\n",
    "                                          'B07010_048E':'mov_os_9000_17',\n",
    "                                          'B07010_049E':'mov_os_15000_17',\n",
    "                                          'B07010_050E':'mov_os_25000_17',\n",
    "                                          'B07010_051E':'mov_os_35000_17',\n",
    "                                          'B07010_052E':'mov_os_50000_17',\n",
    "                                          'B07010_053E':'mov_os_65000_17',\n",
    "                                          'B07010_054E':'mov_os_75000_17',\n",
    "                                          'B07010_055E':'mov_os_76000_more_17',\n",
    "                                          'B07010_058E':'mov_fa_w_income_17',\n",
    "                                          'B07010_059E':'mov_fa_9000_17',\n",
    "                                          'B07010_060E':'mov_fa_15000_17',\n",
    "                                          'B07010_061E':'mov_fa_25000_17',\n",
    "                                          'B07010_062E':'mov_fa_35000_17',\n",
    "                                          'B07010_063E':'mov_fa_50000_17',\n",
    "                                          'B07010_064E':'mov_fa_65000_17',\n",
    "                                          'B07010_065E':'mov_fa_75000_17',\n",
    "                                          'B07010_066E':'mov_fa_76000_more_17',\n",
    "                                          'B06011_001E':'iinc_17',\n",
    "                                          'B19001_002E':'I_10000_17',\n",
    "                                          'B19001_003E':'I_15000_17',\n",
    "                                          'B19001_004E':'I_20000_17',\n",
    "                                          'B19001_005E':'I_25000_17',\n",
    "                                          'B19001_006E':'I_30000_17',\n",
    "                                          'B19001_007E':'I_35000_17',\n",
    "                                          'B19001_008E':'I_40000_17',\n",
    "                                          'B19001_009E':'I_45000_17',\n",
    "                                          'B19001_010E':'I_50000_17',\n",
    "                                          'B19001_011E':'I_60000_17',\n",
    "                                          'B19001_012E':'I_75000_17',\n",
    "                                          'B19001_013E':'I_100000_17',\n",
    "                                          'B19001_014E':'I_125000_17',\n",
    "                                          'B19001_015E':'I_150000_17',\n",
    "                                          'B19001_016E':'I_200000_17',\n",
    "                                          'B19001_017E':'I_201000_17'})"
   ]
  },
  {
   "cell_type": "markdown",
   "metadata": {},
   "source": [
    "### Download ACS 2012 5-Year Estimates"
   ]
  },
  {
   "cell_type": "markdown",
   "metadata": {},
   "source": [
    "#### List variables of interest\n",
    "\n",
    "H061A001 - median house value,\n",
    "H043A001 - median rent"
   ]
  },
  {
   "cell_type": "code",
   "execution_count": 92,
   "metadata": {},
   "outputs": [],
   "source": [
    "df_vars_12=['B25077_001E',\n",
    "            'B25077_001M',\n",
    "            'B25064_001E',\n",
    "            'B25064_001M',\n",
    "            'B07010_025E',\n",
    "            'B07010_026E',\n",
    "            'B07010_027E',\n",
    "            'B07010_028E',\n",
    "            'B07010_029E',\n",
    "            'B07010_030E',\n",
    "            'B07010_031E',\n",
    "            'B07010_032E',\n",
    "            'B07010_033E',\n",
    "            'B07010_036E',\n",
    "            'B07010_037E',\n",
    "            'B07010_038E',\n",
    "            'B07010_039E',\n",
    "            'B07010_040E',\n",
    "            'B07010_041E',\n",
    "            'B07010_042E',\n",
    "            'B07010_043E',\n",
    "            'B07010_044E',\n",
    "            'B07010_047E',\n",
    "            'B07010_048E',\n",
    "            'B07010_049E',\n",
    "            'B07010_050E',\n",
    "            'B07010_051E',\n",
    "            'B07010_052E',\n",
    "            'B07010_053E',\n",
    "            'B07010_054E',\n",
    "            'B07010_055E',\n",
    "            'B07010_058E',\n",
    "            'B07010_059E',\n",
    "            'B07010_060E',\n",
    "            'B07010_061E',\n",
    "            'B07010_062E',\n",
    "            'B07010_063E',\n",
    "            'B07010_064E',\n",
    "            'B07010_065E',\n",
    "            'B07010_066E',\n",
    "            'B06011_001E']"
   ]
  },
  {
   "cell_type": "markdown",
   "metadata": {},
   "source": [
    "#### Run API query\n",
    "NOTE: Memphis is located in two states so the query looks different"
   ]
  },
  {
   "cell_type": "code",
   "execution_count": 93,
   "metadata": {},
   "outputs": [],
   "source": [
    "if city_name != 'Memphis':\n",
    "    var_dict_acs5 = c.acs5.get(df_vars_12, geo = {'for': 'tract:*',\n",
    "                                 'in': sql_query}, year=2012)\n",
    "else:\n",
    "    var_dict_1 = c.acs5.get(df_vars_12, geo = {'for': 'tract:*',\n",
    "                                 'in': sql_query_1} , year=2012)\n",
    "    var_dict_2 = (c.acs5.get(df_vars_12, geo = {'for': 'tract:*',\n",
    "                                 'in': sql_query_2}, year=2012))\n",
    "    var_dict_acs5 = var_dict_1+var_dict_2"
   ]
  },
  {
   "cell_type": "markdown",
   "metadata": {},
   "source": [
    "#### Converts variables into dataframe and filters only FIPS of interest"
   ]
  },
  {
   "cell_type": "code",
   "execution_count": 94,
   "metadata": {},
   "outputs": [],
   "source": [
    "df_vars_12 = pd.DataFrame.from_dict(var_dict_acs5)\n",
    "df_vars_12['FIPS']=df_vars_12['state']+df_vars_12['county']+df_vars_12['tract']\n",
    "df_vars_12 = filter_FIPS(df_vars_12)"
   ]
  },
  {
   "cell_type": "markdown",
   "metadata": {},
   "source": [
    "#### Renames variables"
   ]
  },
  {
   "cell_type": "code",
   "execution_count": 95,
   "metadata": {},
   "outputs": [],
   "source": [
    "df_vars_12 = df_vars_12.rename(columns = {'B25077_001E':'mhval_12',\n",
    "                                          'B25077_001M':'mhval_12_se',\n",
    "                                          'B25064_001E':'mrent_12',\n",
    "                                          'B25064_001M':'mrent_12_se',\n",
    "                                          'B07010_025E':'mov_wc_w_income_12',\n",
    "                                          'B07010_026E':'mov_wc_9000_12',\n",
    "                                          'B07010_027E':'mov_wc_15000_12',\n",
    "                                          'B07010_028E':'mov_wc_25000_12',\n",
    "                                          'B07010_029E':'mov_wc_35000_12',\n",
    "                                          'B07010_030E':'mov_wc_50000_12',\n",
    "                                          'B07010_031E':'mov_wc_65000_12',\n",
    "                                          'B07010_032E':'mov_wc_75000_12',\n",
    "                                          'B07010_033E':'mov_wc_76000_more_12',\n",
    "                                          'B07010_036E':'mov_oc_w_income_12',\n",
    "                                          'B07010_037E':'mov_oc_9000_12',\n",
    "                                          'B07010_038E':'mov_oc_15000_12',\n",
    "                                          'B07010_039E':'mov_oc_25000_12',\n",
    "                                          'B07010_040E':'mov_oc_35000_12',\n",
    "                                          'B07010_041E':'mov_oc_50000_12',\n",
    "                                          'B07010_042E':'mov_oc_65000_12',\n",
    "                                          'B07010_043E':'mov_oc_75000_12',\n",
    "                                          'B07010_044E':'mov_oc_76000_more_12',\n",
    "                                          'B07010_047E':'mov_os_w_income_12',\n",
    "                                          'B07010_048E':'mov_os_9000_12',\n",
    "                                          'B07010_049E':'mov_os_15000_12',\n",
    "                                          'B07010_050E':'mov_os_25000_12',\n",
    "                                          'B07010_051E':'mov_os_35000_12',\n",
    "                                          'B07010_052E':'mov_os_50000_12',\n",
    "                                          'B07010_053E':'mov_os_65000_12',\n",
    "                                          'B07010_054E':'mov_os_75000_12',\n",
    "                                          'B07010_055E':'mov_os_76000_more_12',\n",
    "                                          'B07010_058E':'mov_fa_w_income_12',\n",
    "                                          'B07010_059E':'mov_fa_9000_12',\n",
    "                                          'B07010_060E':'mov_fa_15000_12',\n",
    "                                          'B07010_061E':'mov_fa_25000_12',\n",
    "                                          'B07010_062E':'mov_fa_35000_12',\n",
    "                                          'B07010_063E':'mov_fa_50000_12',\n",
    "                                          'B07010_064E':'mov_fa_65000_12',\n",
    "                                          'B07010_065E':'mov_fa_75000_12',\n",
    "                                          'B07010_066E':'mov_fa_76000_more_12',\n",
    "                                          'B06011_001E':'iinc_12'})"
   ]
  },
  {
   "cell_type": "markdown",
   "metadata": {},
   "source": [
    "### Download ACS 2010 5-Year Estimates"
   ]
  },
  {
   "cell_type": "code",
   "execution_count": 96,
   "metadata": {},
   "outputs": [],
   "source": [
    "# df_vars_10=[]\n",
    "\n",
    "# # Migration - see notes\n",
    "# var_str = 'B07010'\n",
    "# var_list = ['B19013_001E']\n",
    "# for i in list(range(25,34))+list(range(36, 45))+list(range(47, 56))+list(range(58, 67)):\n",
    "#     var_list.append(var_str+'_'+str(i).zfill(3)+'E')\n",
    "# df_vars_10 = df_vars_10 + var_list"
   ]
  },
  {
   "cell_type": "markdown",
   "metadata": {},
   "source": [
    "#### Run API query\n",
    "NOTE: Memphis is located in two states so the query looks different"
   ]
  },
  {
   "cell_type": "code",
   "execution_count": 97,
   "metadata": {},
   "outputs": [],
   "source": [
    "# if city_name != 'Memphis':\n",
    "#     var_dict_acs5 = c.acs5.get(df_vars_10, geo = {'for': 'tract:*',\n",
    "#                                  'in': sql_query}, year=2010)\n",
    "# else:\n",
    "#     var_dict_1 = c.acs5.get(df_vars_10, geo = {'for': 'tract:*',\n",
    "#                                  'in': sql_query_1} , year=2010)\n",
    "#     var_dict_2 = (c.acs5.get(df_vars_10, geo = {'for': 'tract:*',\n",
    "#                                  'in': sql_query_2}, year=2010))\n",
    "#     var_dict_acs5 = var_dict_1+var_dict_2"
   ]
  },
  {
   "cell_type": "markdown",
   "metadata": {},
   "source": [
    "#### Converts variables into dataframe and filters only FIPS of interest"
   ]
  },
  {
   "cell_type": "code",
   "execution_count": 98,
   "metadata": {},
   "outputs": [],
   "source": [
    "# df_vars_10 = pd.DataFrame.from_dict(var_dict_acs5)\n",
    "# df_vars_10['FIPS']=df_vars_10['state']+df_vars_10['county']+df_vars_10['tract']\n",
    "# df_vars_10 = filter_FIPS(df_vars_10)"
   ]
  },
  {
   "cell_type": "markdown",
   "metadata": {},
   "source": [
    "#### Renames variables"
   ]
  },
  {
   "cell_type": "code",
   "execution_count": 99,
   "metadata": {},
   "outputs": [],
   "source": [
    "# df_vars_10 = df_vars_10.rename(columns = {'B07010_025E':'mov_wc_w_income_10',\n",
    "#                                           'B07010_026E':'mov_wc_9000_10',\n",
    "#                                           'B07010_027E':'mov_wc_15000_10',\n",
    "#                                           'B07010_028E':'mov_wc_25000_10',\n",
    "#                                           'B07010_029E':'mov_wc_35000_10',\n",
    "#                                           'B07010_030E':'mov_wc_50000_10',\n",
    "#                                           'B07010_031E':'mov_wc_65000_10',\n",
    "#                                           'B07010_032E':'mov_wc_75000_10',\n",
    "#                                           'B07010_033E':'mov_wc_76000_more_10',\n",
    "#                                           'B07010_036E':'mov_oc_w_income_10',\n",
    "#                                           'B07010_037E':'mov_oc_9000_10',\n",
    "#                                           'B07010_038E':'mov_oc_15000_10',\n",
    "#                                           'B07010_039E':'mov_oc_25000_10',\n",
    "#                                           'B07010_040E':'mov_oc_35000_10',\n",
    "#                                           'B07010_041E':'mov_oc_50000_10',\n",
    "#                                           'B07010_042E':'mov_oc_65000_10',\n",
    "#                                           'B07010_043E':'mov_oc_75000_10',\n",
    "#                                           'B07010_044E':'mov_oc_76000_more_10',\n",
    "#                                           'B07010_047E':'mov_os_w_income_10',\n",
    "#                                           'B07010_048E':'mov_os_9000_10',\n",
    "#                                           'B07010_049E':'mov_os_15000_10',\n",
    "#                                           'B07010_050E':'mov_os_25000_10',\n",
    "#                                           'B07010_051E':'mov_os_35000_10',\n",
    "#                                           'B07010_052E':'mov_os_50000_10',\n",
    "#                                           'B07010_053E':'mov_os_65000_10',\n",
    "#                                           'B07010_054E':'mov_os_75000_10',\n",
    "#                                           'B07010_055E':'mov_os_76000_more_10',\n",
    "#                                           'B07010_058E':'mov_fa_w_income_10',\n",
    "#                                           'B07010_059E':'mov_fa_9000_10',\n",
    "#                                           'B07010_060E':'mov_fa_15000_10',\n",
    "#                                           'B07010_061E':'mov_fa_25000_10',\n",
    "#                                           'B07010_062E':'mov_fa_35000_10',\n",
    "#                                           'B07010_063E':'mov_fa_50000_10',\n",
    "#                                           'B07010_064E':'mov_fa_65000_10',\n",
    "#                                           'B07010_065E':'mov_fa_75000_10',\n",
    "#                                           'B07010_066E':'mov_fa_76000_more_10',\n",
    "#                                           'B19013_001E':'hinc_10',})"
   ]
  },
  {
   "cell_type": "markdown",
   "metadata": {},
   "source": [
    "### Decennial Census 2000 Variables"
   ]
  },
  {
   "cell_type": "code",
   "execution_count": 100,
   "metadata": {},
   "outputs": [],
   "source": [
    "var_sf1=['P004001',\n",
    "         'P004005',\n",
    "         'H004001',\n",
    "         'H004002',\n",
    "         'H004003']\n",
    "\n",
    "var_sf3=['P037001',\n",
    "         'P037015',\n",
    "         'P037016',\n",
    "         'P037017',\n",
    "         'P037018',\n",
    "         'P037032',\n",
    "         'P037033',\n",
    "         'P037034',\n",
    "         'P037035',\n",
    "         'H085001',\n",
    "         'H063001',\n",
    "         'P052001',\n",
    "         'P053001'] \n",
    "\n",
    "var_str = 'P0'\n",
    "var_list = []\n",
    "for i in range (2, 18):\n",
    "    var_list.append(var_str+str(52000+i))\n",
    "\n",
    "var_sf3 = var_sf3 + var_list"
   ]
  },
  {
   "cell_type": "markdown",
   "metadata": {},
   "source": [
    "#### Run API query\n",
    "NOTE: Memphis is located in two states so the query looks different"
   ]
  },
  {
   "cell_type": "code",
   "execution_count": 101,
   "metadata": {},
   "outputs": [],
   "source": [
    "# SF1\n",
    "if city_name != 'Memphis':\n",
    "    var_dict_sf1 = c.sf1.get(var_sf1, geo = {'for': 'tract:*',\n",
    "                                 'in': sql_query}, year=2000)\n",
    "else:\n",
    "    var_dict_1 = c.sf1.get(var_sf1, geo = {'for': 'tract:*',\n",
    "                                 'in': sql_query_1}, year=2000)\n",
    "    var_dict_2 = (c.sf1.get(var_sf1, geo = {'for': 'tract:*',\n",
    "                                 'in': sql_query_2}, year=2000))\n",
    "    var_dict_sf1 = var_dict_1+var_dict_2\n",
    "    \n",
    "# SF3\n",
    "if city_name != 'Memphis':\n",
    "    var_dict_sf3 = c.sf3.get(var_sf3, geo = {'for': 'tract:*',\n",
    "                                 'in': sql_query}, year=2000)\n",
    "else:\n",
    "    var_dict_1 = c.sf3.get(var_sf3, geo = {'for': 'tract:*',\n",
    "                                 'in': sql_query_1}, year=2000)\n",
    "    var_dict_2 = (c.sf3.get(var_sf3, geo = {'for': 'tract:*',\n",
    "                                 'in': sql_query_2}, year=2000))\n",
    "    var_dict_sf3 = var_dict_1+var_dict_2"
   ]
  },
  {
   "cell_type": "markdown",
   "metadata": {},
   "source": [
    "#### Converts variables into dataframe and filters only FIPS of interest"
   ]
  },
  {
   "cell_type": "code",
   "execution_count": 102,
   "metadata": {},
   "outputs": [],
   "source": [
    "df_vars_sf1 = pd.DataFrame.from_dict(var_dict_sf1)\n",
    "df_vars_sf3 = pd.DataFrame.from_dict(var_dict_sf3)\n",
    "df_vars_sf1['FIPS']=df_vars_sf1['state']+df_vars_sf1['county']+df_vars_sf1['tract']\n",
    "df_vars_sf3['FIPS']=df_vars_sf3['state']+df_vars_sf3['county']+df_vars_sf3['tract']\n",
    "df_vars_sf1 = filter_FIPS(df_vars_sf1)\n",
    "df_vars_sf3 = filter_FIPS(df_vars_sf3)"
   ]
  },
  {
   "cell_type": "markdown",
   "metadata": {},
   "source": [
    "#### Renames variables"
   ]
  },
  {
   "cell_type": "code",
   "execution_count": 103,
   "metadata": {},
   "outputs": [],
   "source": [
    "df_vars_sf1 = df_vars_sf1.rename(columns = {'P004001':'pop_00',\n",
    "                                            'P004005':'white_00',\n",
    "                                            'H004001':'hu_00',\n",
    "                                            'H004002':'ohu_00',\n",
    "                                            'H004003':'rhu_00'})\n",
    "\n",
    "df_vars_sf3 = df_vars_sf3.rename(columns = {'P037001':'total_25_00',\n",
    "                                            'P037015':'male_25_col_bd_00',\n",
    "                                            'P037016':'male_25_col_md_00',\n",
    "                                            'P037017':'male_25_col_psd_00',\n",
    "                                            'P037018':'male_25_col_phd_00',\n",
    "                                            'P037032':'female_25_col_bd_00',\n",
    "                                            'P037033':'female_25_col_md_00',\n",
    "                                            'P037034':'female_25_col_psd_00',\n",
    "                                            'P037035':'female_25_col_phd_00',\n",
    "                                            'H085001':'mhval_00',\n",
    "                                            'H063001':'mrent_00',\n",
    "                                            'P052001':'hh_00',\n",
    "                                            'P053001':'hinc_00',\n",
    "                                            'P052002':'I_10000_00',\n",
    "                                            'P052003':'I_15000_00',\n",
    "                                            'P052004':'I_20000_00',\n",
    "                                            'P052005':'I_25000_00',\n",
    "                                            'P052006':'I_30000_00',\n",
    "                                            'P052007':'I_35000_00',\n",
    "                                            'P052008':'I_40000_00',\n",
    "                                            'P052009':'I_45000_00',\n",
    "                                            'P052010':'I_50000_00',\n",
    "                                            'P052011':'I_60000_00',\n",
    "                                            'P052012':'I_75000_00',\n",
    "                                            'P052013':'I_100000_00',\n",
    "                                            'P052014':'I_125000_00',\n",
    "                                            'P052015':'I_150000_00',\n",
    "                                            'P052016':'I_200000_00',\n",
    "                                            'P052017':'I_201000_00'})"
   ]
  },
  {
   "cell_type": "code",
   "execution_count": 104,
   "metadata": {},
   "outputs": [],
   "source": [
    "df_vars_00 = df_vars_sf1.merge(df_vars_sf3.drop(columns=['county', 'state', 'tract']), on = 'FIPS')"
   ]
  },
  {
   "cell_type": "markdown",
   "metadata": {},
   "source": [
    "### Download Decennial Census 1990 Variables"
   ]
  },
  {
   "cell_type": "code",
   "execution_count": 105,
   "metadata": {},
   "outputs": [],
   "source": [
    "var_sf3=['P0010001',\n",
    "         'P0120001',\n",
    "         'P0050001',\n",
    "         'P0570001',\n",
    "         'P0570002',\n",
    "         'P0570003',\n",
    "         'P0570004',\n",
    "         'P0570005',\n",
    "         'P0570006',\n",
    "         'P0570007',         \n",
    "         'H061A001',\n",
    "         'H043A001',\n",
    "         'P080A001',\n",
    "         'H0080001',\n",
    "         'H0080002']\n",
    "\n",
    "var_str = 'P0'\n",
    "var_list = []\n",
    "for i in range (1, 26):\n",
    "    var_list.append(var_str+str(800000+i))\n",
    "\n",
    "var_sf3 = var_sf3 + var_list"
   ]
  },
  {
   "cell_type": "markdown",
   "metadata": {},
   "source": [
    "#### Run API query\n",
    "NOTE: Memphis is located in two states so the query looks different"
   ]
  },
  {
   "cell_type": "code",
   "execution_count": 106,
   "metadata": {},
   "outputs": [],
   "source": [
    "# SF1 - All of the variables are found in the SF3\n",
    "# SF3\n",
    "if city_name != 'Memphis':\n",
    "    var_dict_sf3 = c.sf3.get(var_sf3, geo = {'for': 'tract:*',\n",
    "                                 'in': sql_query}, year=1990)\n",
    "else:\n",
    "    var_dict_1 = c.sf3.get(var_sf3, geo = {'for': 'tract:*',\n",
    "                                 'in': sql_query_1} , year=1990)\n",
    "    var_dict_2 = (c.sf3.get(var_sf3, geo = {'for': 'tract:*',\n",
    "                                 'in': sql_query_2}, year=1990))\n",
    "    var_dict_sf3 = var_dict_1+var_dict_2"
   ]
  },
  {
   "cell_type": "markdown",
   "metadata": {},
   "source": [
    "#### Converts variables into dataframe and filters only FIPS of interest"
   ]
  },
  {
   "cell_type": "code",
   "execution_count": 107,
   "metadata": {},
   "outputs": [],
   "source": [
    "df_vars_90 = pd.DataFrame.from_dict(var_dict_sf3)\n",
    "df_vars_90['FIPS']=df_vars_90['state']+df_vars_90['county']+df_vars_90['tract']\n",
    "df_vars_90 = filter_FIPS(df_vars_90)"
   ]
  },
  {
   "cell_type": "markdown",
   "metadata": {},
   "source": [
    "#### Renames variables"
   ]
  },
  {
   "cell_type": "code",
   "execution_count": 108,
   "metadata": {},
   "outputs": [],
   "source": [
    "df_vars_90 = df_vars_90.rename(columns = {'P0010001':'pop_90',\n",
    "                                            'P0120001':'white_90',\n",
    "                                            'P0050001':'hh_90',\n",
    "                                            'P0570001':'total_25_col_9th_90',\n",
    "                                            'P0570002':'total_25_col_12th_90',\n",
    "                                            'P0570003':'total_25_col_hs_90',\n",
    "                                            'P0570004':'total_25_col_sc_90',\n",
    "                                            'P0570005':'total_25_col_ad_90',\n",
    "                                            'P0570006':'total_25_col_bd_90',\n",
    "                                            'P0570007':'total_25_col_gd_90',\n",
    "                                            'H061A001':'mhval_90',\n",
    "                                            'H043A001':'mrent_90',\n",
    "                                            'P080A001':'hinc_90',\n",
    "                                            'H0080001':'ohu_90',\n",
    "                                            'H0080002':'rhu_90',\n",
    "                                            'P0800001':'I_5000_90',\n",
    "                                            'P0800002':'I_10000_90',\n",
    "                                            'P0800003':'I_12500_90',\n",
    "                                            'P0800004':'I_15000_90',\n",
    "                                            'P0800005':'I_17500_90',\n",
    "                                            'P0800006':'I_20000_90',\n",
    "                                            'P0800007':'I_22500_90',\n",
    "                                            'P0800008':'I_25000_90',\n",
    "                                            'P0800009':'I_27500_90',\n",
    "                                            'P0800010':'I_30000_90',\n",
    "                                            'P0800011':'I_32500_90',\n",
    "                                            'P0800012':'I_35000_90',\n",
    "                                            'P0800013':'I_37500_90',\n",
    "                                            'P0800014':'I_40000_90',\n",
    "                                            'P0800015':'I_42500_90',\n",
    "                                            'P0800016':'I_45000_90',\n",
    "                                            'P0800017':'I_47500_90',\n",
    "                                            'P0800018':'I_50000_90',\n",
    "                                            'P0800019':'I_55000_90',\n",
    "                                            'P0800020':'I_60000_90',\n",
    "                                            'P0800021':'I_75000_90',\n",
    "                                            'P0800022':'I_100000_90',\n",
    "                                            'P0800023':'I_125000_90',\n",
    "                                            'P0800024':'I_150000_90',\n",
    "                                            'P0800025':'I_150001_90'})"
   ]
  },
  {
   "cell_type": "markdown",
   "metadata": {},
   "source": [
    "### Export files\n",
    "\n",
    "All output files will be exported into your personal repo. However, the .gitignore prevents these files from being uploaded to the online Github repo. The reason being that \n",
    "* It's bad practice to store data on github\n",
    "* Github has a file upload limit of 100mb and a repo size limit of 2gb. \n",
    "\n",
    "The input file folder is about 1gb in size and will be pulled from the Google Drive. You will see the path in the next notebook. "
   ]
  },
  {
   "cell_type": "code",
   "execution_count": 109,
   "metadata": {},
   "outputs": [],
   "source": [
    "# Merge 2010 & 2017 files - same geometry\n",
    "# df_vars_summ = df_vars_17.merge(df_vars_10, on = 'FIPS').merge(df_vars_12, on ='FIPS')\n",
    "df_vars_summ = df_vars_17.merge(df_vars_12, on ='FIPS')\n",
    "\n",
    "#Export files to CSV\n",
    "df_vars_summ.to_csv('~/git/sparcc/data/'+city_name+'census_summ.csv')\n",
    "df_vars_90.to_csv('~/git/sparcc/data/'+city_name+'census_90.csv')\n",
    "df_vars_00.to_csv('~/git/sparcc/data/'+city_name+'census_00.csv')"
   ]
  },
  {
   "cell_type": "code",
   "execution_count": null,
   "metadata": {},
   "outputs": [],
   "source": []
  }
 ],
 "metadata": {
  "kernelspec": {
   "display_name": "Python 3",
   "language": "python",
   "name": "python3"
  },
  "language_info": {
   "codemirror_mode": {
    "name": "ipython",
    "version": 3
   },
   "file_extension": ".py",
   "mimetype": "text/x-python",
   "name": "python",
   "nbconvert_exporter": "python",
   "pygments_lexer": "ipython3",
   "version": "3.7.6"
  }
 },
 "nbformat": 4,
 "nbformat_minor": 2
}
